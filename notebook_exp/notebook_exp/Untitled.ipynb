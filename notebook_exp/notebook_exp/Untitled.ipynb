{
 "cells": [
  {
   "cell_type": "code",
   "execution_count": 21,
   "id": "cda507ff-dc30-4d77-a17d-2011a7de86e2",
   "metadata": {},
   "outputs": [],
   "source": [
    "import re\n",
    "special_characters = r'()~<>/;|^\"'\n",
    "value = 'testing('\n",
    "regex = re.compile(special_characters)\n",
    "# if regex.search(value):\n",
    "#    print('NO')"
   ]
  },
  {
   "cell_type": "code",
   "execution_count": 22,
   "id": "69b9296d-8f50-4ffa-91f8-46e0c4ddf9cb",
   "metadata": {},
   "outputs": [
    {
     "name": "stdout",
     "output_type": "stream",
     "text": [
      "None\n"
     ]
    }
   ],
   "source": [
    "print(regex.search('testi(ng',re.M|re.I))"
   ]
  },
  {
   "cell_type": "code",
   "execution_count": 23,
   "id": "8bdd7eb8-0a21-438b-9be0-883d8a1d2192",
   "metadata": {},
   "outputs": [
    {
     "data": {
      "text/plain": [
       "re.compile(r'()~<>/;|^\"', re.UNICODE)"
      ]
     },
     "execution_count": 23,
     "metadata": {},
     "output_type": "execute_result"
    }
   ],
   "source": [
    "regex"
   ]
  },
  {
   "cell_type": "code",
   "execution_count": 25,
   "id": "2a3ed903-5fff-45d7-b3d7-3dc7d64fe08c",
   "metadata": {},
   "outputs": [],
   "source": [
    "import re\n",
    "  \n",
    "# Function checks if the string\n",
    "# contains any special character\n",
    "def run(string):\n",
    "  \n",
    "    # Make own character set and pass \n",
    "    # this as argument in compile method\n",
    "    regex = re.compile('[@_!#$%^&*()<>?/\\|}{~:]')\n",
    "      \n",
    "    # Pass the string in search \n",
    "    # method of regex object.    \n",
    "    if(regex.search(string) == None):\n",
    "        print(\"String is accepted\")\n",
    "          \n",
    "    else:\n",
    "        print(\"String is not accepted.\")\n",
    "      \n",
    "  "
   ]
  },
  {
   "cell_type": "code",
   "execution_count": 29,
   "id": "9a03c4d4-591b-4361-af23-9db9b2d430bb",
   "metadata": {},
   "outputs": [
    {
     "name": "stdout",
     "output_type": "stream",
     "text": [
      "String is accepted\n"
     ]
    }
   ],
   "source": [
    "\n",
    "# Enter the string\n",
    "string = \"testing234[]\"\n",
    "\n",
    "# calling run function \n",
    "run(string)"
   ]
  },
  {
   "cell_type": "code",
   "execution_count": null,
   "id": "8ed932c3-5594-4cd0-9dfc-9ecd311f8334",
   "metadata": {},
   "outputs": [],
   "source": []
  }
 ],
 "metadata": {
  "kernelspec": {
   "display_name": "Python 3",
   "language": "python",
   "name": "python3"
  },
  "language_info": {
   "codemirror_mode": {
    "name": "ipython",
    "version": 3
   },
   "file_extension": ".py",
   "mimetype": "text/x-python",
   "name": "python",
   "nbconvert_exporter": "python",
   "pygments_lexer": "ipython3",
   "version": "3.9.2"
  }
 },
 "nbformat": 4,
 "nbformat_minor": 5
}

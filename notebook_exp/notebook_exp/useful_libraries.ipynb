{
 "cells": [
  {
   "cell_type": "code",
   "execution_count": 21,
   "id": "cda507ff-dc30-4d77-a17d-2011a7de86e2",
   "metadata": {},
   "outputs": [],
   "source": [
    "import re\n",
    "special_characters = r'()~<>/;|^\"'\n",
    "value = 'testing('\n",
    "regex = re.compile(special_characters)\n",
    "# if regex.search(value):\n",
    "#    print('NO')"
   ]
  },
  {
   "cell_type": "code",
   "execution_count": 22,
   "id": "69b9296d-8f50-4ffa-91f8-46e0c4ddf9cb",
   "metadata": {},
   "outputs": [
    {
     "name": "stdout",
     "output_type": "stream",
     "text": [
      "None\n"
     ]
    }
   ],
   "source": [
    "print(regex.search('testi(ng',re.M|re.I))"
   ]
  },
  {
   "cell_type": "code",
   "execution_count": 23,
   "id": "8bdd7eb8-0a21-438b-9be0-883d8a1d2192",
   "metadata": {},
   "outputs": [
    {
     "data": {
      "text/plain": [
       "re.compile(r'()~<>/;|^\"', re.UNICODE)"
      ]
     },
     "execution_count": 23,
     "metadata": {},
     "output_type": "execute_result"
    }
   ],
   "source": [
    "regex"
   ]
  },
  {
   "cell_type": "code",
   "execution_count": 25,
   "id": "2a3ed903-5fff-45d7-b3d7-3dc7d64fe08c",
   "metadata": {},
   "outputs": [],
   "source": [
    "import re\n",
    "  \n",
    "# Function checks if the string\n",
    "# contains any special character\n",
    "def run(string):\n",
    "  \n",
    "    # Make own character set and pass \n",
    "    # this as argument in compile method\n",
    "    regex = re.compile('[@_!#$%^&*()<>?/\\|}{~:]')\n",
    "      \n",
    "    # Pass the string in search \n",
    "    # method of regex object.    \n",
    "    if(regex.search(string) == None):\n",
    "        print(\"String is accepted\")\n",
    "          \n",
    "    else:\n",
    "        print(\"String is not accepted.\")\n",
    "      \n",
    "  "
   ]
  },
  {
   "cell_type": "code",
   "execution_count": 29,
   "id": "9a03c4d4-591b-4361-af23-9db9b2d430bb",
   "metadata": {},
   "outputs": [
    {
     "name": "stdout",
     "output_type": "stream",
     "text": [
      "String is accepted\n"
     ]
    }
   ],
   "source": [
    "\n",
    "# Enter the string\n",
    "string = \"testing234[]\"\n",
    "\n",
    "# calling run function \n",
    "run(string)"
   ]
  },
  {
   "cell_type": "code",
   "execution_count": 1,
   "id": "8ed932c3-5594-4cd0-9dfc-9ecd311f8334",
   "metadata": {},
   "outputs": [],
   "source": [
    "import itertools"
   ]
  },
  {
   "cell_type": "code",
   "execution_count": 2,
   "id": "9e5332c9-8852-4ef8-9ffc-ba1d3373d3ff",
   "metadata": {},
   "outputs": [
    {
     "data": {
      "text/plain": [
       "['__doc__',\n",
       " '__loader__',\n",
       " '__name__',\n",
       " '__package__',\n",
       " '__spec__',\n",
       " '_grouper',\n",
       " '_tee',\n",
       " '_tee_dataobject',\n",
       " 'accumulate',\n",
       " 'chain',\n",
       " 'combinations',\n",
       " 'combinations_with_replacement',\n",
       " 'compress',\n",
       " 'count',\n",
       " 'cycle',\n",
       " 'dropwhile',\n",
       " 'filterfalse',\n",
       " 'groupby',\n",
       " 'islice',\n",
       " 'permutations',\n",
       " 'product',\n",
       " 'repeat',\n",
       " 'starmap',\n",
       " 'takewhile',\n",
       " 'tee',\n",
       " 'zip_longest']"
      ]
     },
     "execution_count": 2,
     "metadata": {},
     "output_type": "execute_result"
    }
   ],
   "source": [
    "dir(itertools)"
   ]
  },
  {
   "cell_type": "code",
   "execution_count": 4,
   "id": "f429bbaf-c2c3-47ae-b7ba-5b9935fec01d",
   "metadata": {},
   "outputs": [],
   "source": []
  },
  {
   "cell_type": "code",
   "execution_count": 7,
   "id": "5a101cfb-88f9-45d2-86c1-b09618c69d49",
   "metadata": {},
   "outputs": [
    {
     "name": "stdout",
     "output_type": "stream",
     "text": [
      "1\n",
      "3\n",
      "6\n",
      "10\n",
      "15\n"
     ]
    }
   ],
   "source": [
    "for i in itertools.accumulate([1,2,3,4,5]):\n",
    "    print(i)"
   ]
  },
  {
   "cell_type": "markdown",
   "id": "f1dcddba-a0d6-463d-9b87-0efa2a52bb77",
   "metadata": {},
   "source": [
    "## Cosolidated list using itertools.chain"
   ]
  },
  {
   "cell_type": "code",
   "execution_count": 16,
   "id": "ee022aa0-94ae-409c-affe-75ae1a4eb688",
   "metadata": {},
   "outputs": [
    {
     "data": {
      "text/plain": [
       "[1, 2, 3, 4, 5, 6, 7]"
      ]
     },
     "execution_count": 16,
     "metadata": {},
     "output_type": "execute_result"
    }
   ],
   "source": [
    "l1 = [1,2]\n",
    "l2 = [3,4]\n",
    "l3 = [5,6,7]\n",
    "consolidated_list = [i for i in itertools.chain(l1,l2,l3)]\n",
    "consolidated_list"
   ]
  },
  {
   "cell_type": "code",
   "execution_count": 49,
   "id": "37bc9ad3-ed21-423b-83be-802935f078fe",
   "metadata": {},
   "outputs": [
    {
     "data": {
      "text/plain": [
       "[1, 2, 3, 4, 5, 6, 7, 8, 9]"
      ]
     },
     "execution_count": 49,
     "metadata": {},
     "output_type": "execute_result"
    }
   ],
   "source": [
    "list1 = [[1, 2, 3], [4, 5, 6], [7], [8, 9]]\n",
    "[item for sublist in list1 for item in sublist]"
   ]
  },
  {
   "cell_type": "code",
   "execution_count": 50,
   "id": "debe7080-ea74-4fe6-861d-815f24f5f8bd",
   "metadata": {},
   "outputs": [
    {
     "data": {
      "text/plain": [
       "[1, 2, 3, 4, 5, 6, 7, 8, 9]"
      ]
     },
     "execution_count": 50,
     "metadata": {},
     "output_type": "execute_result"
    }
   ],
   "source": [
    "[item \n",
    " for sublist in list1 \n",
    "     for item in sublist]"
   ]
  },
  {
   "cell_type": "code",
   "execution_count": 58,
   "id": "222bb4a6-37ba-467b-a062-286d1b53c532",
   "metadata": {},
   "outputs": [
    {
     "data": {
      "text/plain": [
       "[0, 2, 4, 6, 8, 10, 12, 14, 16, 18, 20, 22, 24, 26, 28]"
      ]
     },
     "execution_count": 58,
     "metadata": {},
     "output_type": "execute_result"
    }
   ],
   "source": [
    "[x for x in itertools.filterfalse(lambda x: x % 2, range(30))]"
   ]
  },
  {
   "cell_type": "code",
   "execution_count": 62,
   "id": "ed1a2a34-dbcc-4ef1-811b-2990e6ad8870",
   "metadata": {},
   "outputs": [
    {
     "data": {
      "text/plain": [
       "[15, 16, 17, 18, 19, 20, 21, 22, 23, 24, 25, 26, 27, 28, 29]"
      ]
     },
     "execution_count": 62,
     "metadata": {},
     "output_type": "execute_result"
    }
   ],
   "source": [
    "[x for x in itertools.dropwhile(lambda x: x < 15, range(30))]"
   ]
  },
  {
   "cell_type": "code",
   "execution_count": 63,
   "id": "343e042d-becd-4053-84ac-6ac58e7ad72e",
   "metadata": {},
   "outputs": [
    {
     "data": {
      "text/plain": [
       "[15, 16, 17, 18, 19, 20, 21, 22, 23, 24, 25, 26, 27, 28, 29]"
      ]
     },
     "execution_count": 63,
     "metadata": {},
     "output_type": "execute_result"
    }
   ],
   "source": [
    "[x for x in itertools.filterfalse(lambda x: x < 15, range(30))]"
   ]
  },
  {
   "cell_type": "code",
   "execution_count": 64,
   "id": "df2e4832-e4e2-4e55-a59c-1085d57c1a49",
   "metadata": {},
   "outputs": [
    {
     "data": {
      "text/plain": [
       "[1, 3, 5, 7, 9, 11, 13, 15, 17, 19, 21, 23, 25, 27, 29]"
      ]
     },
     "execution_count": 64,
     "metadata": {},
     "output_type": "execute_result"
    }
   ],
   "source": [
    "[x for x in range(30) if x % 2]"
   ]
  },
  {
   "cell_type": "code",
   "execution_count": 1,
   "id": "f9258473-a5c0-46ba-b6c6-b24b938fdfc1",
   "metadata": {},
   "outputs": [
    {
     "data": {
      "text/plain": [
       "16"
      ]
     },
     "execution_count": 1,
     "metadata": {},
     "output_type": "execute_result"
    }
   ],
   "source": [
    "rozryK-nozqis-5jubce"
   ]
  },
  {
   "cell_type": "code",
   "execution_count": 4,
   "id": "1190b052",
   "metadata": {},
   "outputs": [
    {
     "data": {
      "text/plain": [
       "17"
      ]
     },
     "execution_count": 4,
     "metadata": {},
     "output_type": "execute_result"
    }
   ],
   "source": []
  },
  {
   "cell_type": "code",
   "execution_count": null,
   "id": "216116ff",
   "metadata": {},
   "outputs": [],
   "source": []
  }
 ],
 "metadata": {
  "kernelspec": {
   "display_name": "Python 3.10.0b3 64-bit ('3.10.0b3')",
   "language": "python",
   "name": "python3"
  },
  "language_info": {
   "codemirror_mode": {
    "name": "ipython",
    "version": 3
   },
   "file_extension": ".py",
   "mimetype": "text/x-python",
   "name": "python",
   "nbconvert_exporter": "python",
   "pygments_lexer": "ipython3",
   "version": "3.10.0"
  },
  "vscode": {
   "interpreter": {
    "hash": "e787f34c2786a3b6e4ad2ed4bbabe8bd6d0ae17eb638ef17496b32e5573c3d59"
   }
  }
 },
 "nbformat": 4,
 "nbformat_minor": 5
}

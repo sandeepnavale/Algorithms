{
 "cells": [
  {
   "cell_type": "code",
   "execution_count": 1,
   "metadata": {
    "collapsed": true
   },
   "outputs": [
    {
     "name": "stdout",
     "output_type": "stream",
     "text": [
      "The Zen of Python, by Tim Peters\n",
      "\n",
      "Beautiful is better than ugly.\n",
      "Explicit is better than implicit.\n",
      "Simple is better than complex.\n",
      "Complex is better than complicated.\n",
      "Flat is better than nested.\n",
      "Sparse is better than dense.\n",
      "Readability counts.\n",
      "Special cases aren't special enough to break the rules.\n",
      "Although practicality beats purity.\n",
      "Errors should never pass silently.\n",
      "Unless explicitly silenced.\n",
      "In the face of ambiguity, refuse the temptation to guess.\n",
      "There should be one-- and preferably only one --obvious way to do it.\n",
      "Although that way may not be obvious at first unless you're Dutch.\n",
      "Now is better than never.\n",
      "Although never is often better than *right* now.\n",
      "If the implementation is hard to explain, it's a bad idea.\n",
      "If the implementation is easy to explain, it may be a good idea.\n",
      "Namespaces are one honking great idea -- let's do more of those!\n"
     ]
    }
   ],
   "source": [
    "import this"
   ]
  },
  {
   "cell_type": "code",
   "execution_count": 2,
   "metadata": {},
   "outputs": [
    {
     "name": "stdout",
     "output_type": "stream",
     "text": [
      "False\n",
      "False\n"
     ]
    }
   ],
   "source": [
    "\n",
    "\n",
    "def is_leap(year):\n",
    "    leap = False\n",
    "    if(year >= 1900 and year <= pow(10,5)):\n",
    "        if(year % 4 == 0):\n",
    "            leap = True\n",
    "            if(year % 100 == 0): \n",
    "                leap = False\n",
    "            elif(year % 400 == 0):\n",
    "                leap = True\n",
    "    return leap\n",
    "\n",
    "print(is_leap(1900))\n",
    "print(is_leap(2000))\n"
   ]
  },
  {
   "cell_type": "code",
   "execution_count": 59,
   "metadata": {},
   "outputs": [
    {
     "name": "stdout",
     "output_type": "stream",
     "text": [
      "ID         MARKS      NAME       CLASS\n",
      "44.0\n"
     ]
    }
   ],
   "source": [
    "\n",
    "from collections import namedtuple\n",
    "StudentRecord = namedtuple('StudentRec','ID, Marks, Name,Class')\n",
    "NumberOfStudents = int(input())\n",
    "Records = []\n",
    "print('ID         MARKS      NAME       CLASS')\n",
    "for i in range(1,NumberOfStudents+1):  \n",
    "    sid = int(input()) \n",
    "    marks = int(input())\n",
    "    name = input()\n",
    "    stdclass = input()\n",
    "    Records.append(StudentRecord(sid,marks,name,stdclass))\n",
    "        \n",
    "\n",
    "total = 0\n",
    "for i in range(0,len(Records)):\n",
    "    total += int(Records[i].Marks)\n",
    "avg = total / len(Records)\n",
    "print(avg)"
   ]
  },
  {
   "cell_type": "code",
   "execution_count": 60,
   "metadata": {},
   "outputs": [
    {
     "name": "stdout",
     "output_type": "stream",
     "text": [
      "[StudentRec(ID=21, Marks=22, Name='33', Class='44'), StudentRec(ID=55, Marks=66, Name='677', Class='33')]\n"
     ]
    }
   ],
   "source": [
    "print(Records)"
   ]
  }
 ],
 "metadata": {
  "kernelspec": {
   "display_name": "Python 3",
   "language": "python",
   "name": "python3"
  },
  "language_info": {
   "codemirror_mode": {
    "name": "ipython",
    "version": 3
   },
   "file_extension": ".py",
   "mimetype": "text/x-python",
   "name": "python",
   "nbconvert_exporter": "python",
   "pygments_lexer": "ipython3",
   "version": "3.6.3"
  }
 },
 "nbformat": 4,
 "nbformat_minor": 2
}

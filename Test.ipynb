{
 "cells": [
  {
   "cell_type": "code",
   "execution_count": 1,
   "metadata": {
    "collapsed": true
   },
   "outputs": [
    {
     "name": "stdout",
     "output_type": "stream",
     "text": [
      "The Zen of Python, by Tim Peters\n",
      "\n",
      "Beautiful is better than ugly.\n",
      "Explicit is better than implicit.\n",
      "Simple is better than complex.\n",
      "Complex is better than complicated.\n",
      "Flat is better than nested.\n",
      "Sparse is better than dense.\n",
      "Readability counts.\n",
      "Special cases aren't special enough to break the rules.\n",
      "Although practicality beats purity.\n",
      "Errors should never pass silently.\n",
      "Unless explicitly silenced.\n",
      "In the face of ambiguity, refuse the temptation to guess.\n",
      "There should be one-- and preferably only one --obvious way to do it.\n",
      "Although that way may not be obvious at first unless you're Dutch.\n",
      "Now is better than never.\n",
      "Although never is often better than *right* now.\n",
      "If the implementation is hard to explain, it's a bad idea.\n",
      "If the implementation is easy to explain, it may be a good idea.\n",
      "Namespaces are one honking great idea -- let's do more of those!\n"
     ]
    }
   ],
   "source": [
    "import this"
   ]
  },
  {
   "cell_type": "code",
   "execution_count": 2,
   "metadata": {},
   "outputs": [
    {
     "name": "stdout",
     "output_type": "stream",
     "text": [
      "False\n",
      "False\n"
     ]
    }
   ],
   "source": [
    "\n",
    "\n",
    "def is_leap(year):\n",
    "    leap = False\n",
    "    if(year >= 1900 and year <= pow(10,5)):\n",
    "        if(year % 4 == 0):\n",
    "            leap = True\n",
    "            if(year % 100 == 0): \n",
    "                leap = False\n",
    "            elif(year % 400 == 0):\n",
    "                leap = True\n",
    "    return leap\n",
    "\n",
    "print(is_leap(1900))\n",
    "print(is_leap(2000))\n"
   ]
  },
  {
   "cell_type": "code",
   "execution_count": 59,
   "metadata": {},
   "outputs": [
    {
     "name": "stdout",
     "output_type": "stream",
     "text": [
      "ID         MARKS      NAME       CLASS\n",
      "44.0\n"
     ]
    }
   ],
   "source": [
    "\n",
    "from collections import namedtuple\n",
    "StudentRecord = namedtuple('StudentRec','ID, Marks, Name,Class')\n",
    "NumberOfStudents = int(input())\n",
    "Records = []\n",
    "print('ID         MARKS      NAME       CLASS')\n",
    "for i in range(1,NumberOfStudents+1):  \n",
    "    sid = int(input()) \n",
    "    marks = int(input())\n",
    "    name = input()\n",
    "    stdclass = input()\n",
    "    Records.append(StudentRecord(sid,marks,name,stdclass))\n",
    "        \n",
    "\n",
    "total = 0\n",
    "for i in range(0,len(Records)):\n",
    "    total += int(Records[i].Marks)\n",
    "avg = total / len(Records)\n",
    "print(avg)"
   ]
  },
  {
   "cell_type": "code",
   "execution_count": 1,
   "metadata": {},
   "outputs": [
    {
     "ename": "NameError",
     "evalue": "name 'Records' is not defined",
     "traceback": [
      "\u001b[0;31m---------------------------------------------------------------------------\u001b[0m",
      "\u001b[0;31mNameError\u001b[0m                                 Traceback (most recent call last)",
      "\u001b[0;32m<ipython-input-1-eeb1e8a9d377>\u001b[0m in \u001b[0;36m<module>\u001b[0;34m()\u001b[0m\n\u001b[0;32m----> 1\u001b[0;31m \u001b[0mprint\u001b[0m\u001b[0;34m(\u001b[0m\u001b[0mRecords\u001b[0m\u001b[0;34m)\u001b[0m\u001b[0;34m\u001b[0m\u001b[0m\n\u001b[0m",
      "\u001b[0;31mNameError\u001b[0m: name 'Records' is not defined"
     ],
     "output_type": "error"
    }
   ],
   "source": [
    "print(Records)"
   ]
  },
  {
   "cell_type": "code",
   "execution_count": 18,
   "metadata": {},
   "outputs": [
    {
     "name": "stdout",
     "output_type": "stream",
     "text": [
      "10\n10\n10\n10\n10\n10\n10\n10\n10\n10\n10\n"
     ]
    }
   ],
   "source": [
    "from random import randint\n",
    "class BTNode(object):\n",
    "    def __init__(self,data):\n",
    "        self.data = data\n",
    "        self.left = None\n",
    "        self.right = None\n",
    "        \n",
    "class BT(object):\n",
    "    def __init__(self):\n",
    "        self.root = None\n",
    "        self.height = 0\n",
    "    \n",
    "    def add(self,value):\n",
    "        if(not self.root):\n",
    "            self.root = BTNode(value)\n",
    "        else:\n",
    "            self._add(self.root,value)\n",
    "    \n",
    "    def _add(self,node, value):\n",
    "        # add left subtree\n",
    "        if value <= node.data:\n",
    "            if node.left is None:\n",
    "                node.left = BTNode(value)\n",
    "            else:\n",
    "                self._add(node.left,value)\n",
    "            \n",
    "        #  add right subtree.\n",
    "        if value >= node.data:\n",
    "            if node.right is None:\n",
    "                node.right = BTNode(value)\n",
    "            else:\n",
    "                self._add(node.right,value)\n",
    "\n",
    "    # # display tree\n",
    "    # def __repr__(self,root):\n",
    "    #     print(\"PRE-ORDER\")\n",
    "    #     self.preorder(root)   \n",
    "    #     print(\"POST-ORDER\")\n",
    "    #     print(\"IN-ORDER\")\n",
    "\n",
    "    def preorder(self, root):\n",
    "        if root:\n",
    "            print(self.root.data)\n",
    "            self.preorder(root.left)\n",
    "            self.preorder(root.right)\n",
    "\n",
    "\n",
    "if __name__ == \"__main__\":\n",
    "    btObj = BT()\n",
    "    for i in range(1,10):\n",
    "        ele = randint(1,10)\n",
    "        btObj.add(ele)\n",
    "        \n",
    "    btObj.preorder(btObj.root)"
   ]
  },
  {
   "cell_type": "code",
   "execution_count": 21,
   "metadata": {},
   "outputs": [
    {
     "name": "stdout",
     "output_type": "stream",
     "text": [
      "[94]\n"
     ]
    }
   ],
   "source": [
    "from random import  randint\n",
    "class ListNode(object):\n",
    "    def __init__(self,data=None,next=None):\n",
    "        self.data = data\n",
    "        self.next = next\n",
    "    def __repr__(self):\n",
    "        repr(self.data)\n",
    "    \n",
    "class SingleLinkedList(object):\n",
    "    def __init__(self):\n",
    "        self.head = None\n",
    "        \n",
    "    def prepend(self,data):\n",
    "        if self.head is None:\n",
    "            self.head = ListNode(data)\n",
    "        else:\n",
    "            self.head = ListNode(data,self.head.next)\n",
    "    \n",
    "    def __repr__(self):\n",
    "        outlist = []\n",
    "        curr = self.head\n",
    "        while(curr):\n",
    "            outlist.append(repr(curr.data))\n",
    "            curr=curr.next\n",
    "        return '['+'->'.join(outlist)+']'\n",
    "        \n",
    "            \n",
    "\n",
    "if __name__ == '__main__':\n",
    "    lst = SingleLinkedList()\n",
    "    for i in range(0,10):\n",
    "        lst.prepend(randint(10,100))\n",
    "        \n",
    "    print(lst)\n",
    "        "
   ]
  }
 ],
 "metadata": {
  "kernelspec": {
   "display_name": "Python 3",
   "language": "python",
   "name": "python3"
  },
  "language_info": {
   "codemirror_mode": {
    "name": "ipython",
    "version": 3
   },
   "file_extension": ".py",
   "mimetype": "text/x-python",
   "name": "python",
   "nbconvert_exporter": "python",
   "pygments_lexer": "ipython3",
   "version": "3.6.3"
  }
 },
 "nbformat": 4,
 "nbformat_minor": 2
}

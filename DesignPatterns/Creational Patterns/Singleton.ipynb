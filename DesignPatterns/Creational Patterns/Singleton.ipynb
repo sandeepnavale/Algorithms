{
 "cells": [
  {
   "cell_type": "markdown",
   "metadata": {
    "collapsed": true
   },
   "source": [
    "###Implementation of Singleton in python"
   ]
  },
  {
   "cell_type": "code",
   "execution_count": 2,
   "metadata": {},
   "outputs": [],
   "source": [
    "class Singleton(object):\n",
    "    \"\"\" Singleton in python\"\"\"\n",
    "    _instance = None\n",
    "    def __new__(cls, *args, **kwargs):\n",
    "        if cls._instance == None:\n",
    "            cls._instance = object.__new__(cls)\n",
    "        return cls._instance\n"
   ]
  },
  {
   "cell_type": "code",
   "execution_count": 3,
   "metadata": {},
   "outputs": [
    {
     "data": {
      "text/plain": [
       "True"
      ]
     },
     "execution_count": 3,
     "metadata": {},
     "output_type": "execute_result"
    }
   ],
   "source": [
    "s1 = Singleton()\n",
    "s2 = Singleton()\n",
    "s1 == s2"
   ]
  },
  {
   "cell_type": "code",
   "execution_count": 4,
   "metadata": {},
   "outputs": [],
   "source": [
    "def test_single(cls):\n",
    "    \"\"\" Test if passed class is a singleton \"\"\"\n",
    "    return cls() == cls()"
   ]
  },
  {
   "cell_type": "code",
   "execution_count": 6,
   "metadata": {},
   "outputs": [
    {
     "data": {
      "text/plain": [
       "True"
      ]
     },
     "execution_count": 6,
     "metadata": {},
     "output_type": "execute_result"
    }
   ],
   "source": [
    "test_single(Singleton)"
   ]
  },
  {
   "cell_type": "heading",
   "metadata": {},
   "level": 1,
   "source": [
    "Example 2 \n"
   ]
  },
  {
   "cell_type": "code",
   "execution_count": 1,
   "metadata": {},
   "outputs": [
    {
     "name": "stdout",
     "output_type": "stream",
     "text": [
      "<__main__.OnlyOne object at 0x10f0e2be0>\n<__main__.OnlyOne object at 0x10f0e2c88>\n<__main__.OnlyOne object at 0x10f0e2da0>\n<__main__.OnlyOne object at 0x10f0e2be0>\n<__main__.OnlyOne object at 0x10f0e2c88>\n"
     ]
    }
   ],
   "source": [
    "class OnlyOne(object):\n",
    "    class __OnlyOne:\n",
    "        def __init__(self):\n",
    "            self.val = None\n",
    "        def __str__(self):\n",
    "            return \"self\" + self.val\n",
    "        instance = None\n",
    "        def __new__(cls): # __new__ always a classmethod\n",
    "            if not OnlyOne.instance:\n",
    "                OnlyOne.instance = OnlyOne.__OnlyOne()\n",
    "            return OnlyOne.instance\n",
    "        def __getattr__(self, name):\n",
    "            return getattr(self.instance, name)\n",
    "        def __setattr__(self, name):\n",
    "            return setattr(self.instance, name)\n",
    "\n",
    "x = OnlyOne()\n",
    "x.val = 'sausage'\n",
    "print (x)\n",
    "y = OnlyOne()\n",
    "y.val = 'eggs'\n",
    "print( y)\n",
    "z = OnlyOne()\n",
    "z.val = 'spam'\n",
    "print (z)\n",
    "print( x)\n",
    "print( y)\n",
    "\n"
   ]
  },
  {
   "cell_type": "code",
   "execution_count": null,
   "metadata": {},
   "outputs": [],
   "source": []
  }
 ],
 "metadata": {
  "kernelspec": {
   "display_name": "Python 2",
   "language": "python",
   "name": "python2"
  },
  "language_info": {
   "codemirror_mode": {
    "name": "ipython",
    "version": 2
   },
   "file_extension": ".py",
   "mimetype": "text/x-python",
   "name": "python",
   "nbconvert_exporter": "python",
   "pygments_lexer": "ipython2",
   "version": "2.7.6"
  }
 },
 "nbformat": 4,
 "nbformat_minor": 0
}
